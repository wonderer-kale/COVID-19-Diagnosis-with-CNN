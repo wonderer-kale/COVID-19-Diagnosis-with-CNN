{
 "cells": [
  {
   "cell_type": "markdown",
   "id": "piano-seattle",
   "metadata": {
    "papermill": {
     "duration": 0.023067,
     "end_time": "2021-06-17T13:25:08.580882",
     "exception": false,
     "start_time": "2021-06-17T13:25:08.557815",
     "status": "completed"
    },
    "tags": []
   },
   "source": [
    "# COVID-19 Prediction with Chest X-Ray"
   ]
  },
  {
   "cell_type": "markdown",
   "id": "capital-crowd",
   "metadata": {
    "papermill": {
     "duration": 0.022399,
     "end_time": "2021-06-17T13:25:08.626829",
     "exception": false,
     "start_time": "2021-06-17T13:25:08.604430",
     "status": "completed"
    },
    "tags": []
   },
   "source": [
    "<h2 align=\"center\">Table Of Contents</h2>\n",
    "\n",
    "<div class=\"alert alert-block alert-info\" style=\"margin-top: 20px\">\n",
    "<li><a href=\"#ref0\">Sorting Files</a></li>\n",
    "<li><a href=\"#ref1\">Transforms</a></li>\n",
    "<li><a href=\"#ref2\">Load Model and Finetuning</a></li>\n",
    "<li><a href=\"#ref3\">Training</a></li>\n",
    "<li><a href=\"#ref4\">Save the Model</a></li>\n",
    "<li><a href=\"#ref5\">Confusion Matrix</a></li>"
   ]
  },
  {
   "cell_type": "code",
   "execution_count": 1,
   "id": "aggregate-trigger",
   "metadata": {
    "_cell_guid": "b1076dfc-b9ad-4769-8c92-a6c4dae69d19",
    "_uuid": "8f2839f25d086af736a60e9eeb907d3b93b6e0e5",
    "execution": {
     "iopub.execute_input": "2021-06-17T13:25:08.686517Z",
     "iopub.status.busy": "2021-06-17T13:25:08.685821Z",
     "iopub.status.idle": "2021-06-17T13:25:09.959108Z",
     "shell.execute_reply": "2021-06-17T13:25:09.959647Z",
     "shell.execute_reply.started": "2021-06-16T01:37:32.938736Z"
    },
    "papermill": {
     "duration": 1.311193,
     "end_time": "2021-06-17T13:25:09.960030",
     "exception": false,
     "start_time": "2021-06-17T13:25:08.648837",
     "status": "completed"
    },
    "tags": []
   },
   "outputs": [],
   "source": [
    "import os\n",
    "import glob\n",
    "import torch\n",
    "import shutil\n",
    "import itertools\n",
    "import numpy as np\n",
    "import torch.nn as nn\n",
    "import matplotlib.pyplot as plt\n",
    "from torch.utils.data import DataLoader\n",
    "from torchvision import datasets, models, transforms"
   ]
  },
  {
   "cell_type": "markdown",
   "id": "prime-participant",
   "metadata": {
    "papermill": {
     "duration": 0.022488,
     "end_time": "2021-06-17T13:25:10.005287",
     "exception": false,
     "start_time": "2021-06-17T13:25:09.982799",
     "status": "completed"
    },
    "tags": []
   },
   "source": [
    "<a id=\"ref0\"></a>\n",
    "<h2 align=\"center\">Sorting Files</h2>"
   ]
  },
  {
   "cell_type": "markdown",
   "id": "utility-nebraska",
   "metadata": {
    "papermill": {
     "duration": 0.021332,
     "end_time": "2021-06-17T13:25:10.048573",
     "exception": false,
     "start_time": "2021-06-17T13:25:10.027241",
     "status": "completed"
    },
    "tags": []
   },
   "source": [
    "The structure of the files:\n",
    "1. train\n",
    "    * covid\n",
    "    * pneumonia\n",
    "    * normal\n",
    "2. test\n",
    "    * covid\n",
    "    * pneumonia\n",
    "    * normal"
   ]
  },
  {
   "cell_type": "code",
   "execution_count": 2,
   "id": "essential-paper",
   "metadata": {
    "execution": {
     "iopub.execute_input": "2021-06-17T13:25:10.096038Z",
     "iopub.status.busy": "2021-06-17T13:25:10.095294Z",
     "iopub.status.idle": "2021-06-17T13:25:10.100394Z",
     "shell.execute_reply": "2021-06-17T13:25:10.099739Z",
     "shell.execute_reply.started": "2021-06-16T01:37:36.978638Z"
    },
    "papermill": {
     "duration": 0.03014,
     "end_time": "2021-06-17T13:25:10.100551",
     "exception": false,
     "start_time": "2021-06-17T13:25:10.070411",
     "status": "completed"
    },
    "tags": []
   },
   "outputs": [],
   "source": [
    "covid_path = '../input/covid19-radiography-database/COVID-19_Radiography_Dataset/COVID'\n",
    "normal_path = '../input/covid19-radiography-database/COVID-19_Radiography_Dataset/Normal'\n",
    "pneumonia_path = '../input/covid19-radiography-database/COVID-19_Radiography_Dataset/Viral Pneumonia'"
   ]
  },
  {
   "cell_type": "code",
   "execution_count": 3,
   "id": "signed-launch",
   "metadata": {
    "execution": {
     "iopub.execute_input": "2021-06-17T13:25:10.148536Z",
     "iopub.status.busy": "2021-06-17T13:25:10.147805Z",
     "iopub.status.idle": "2021-06-17T13:25:10.153368Z",
     "shell.execute_reply": "2021-06-17T13:25:10.153883Z",
     "shell.execute_reply.started": "2021-06-16T01:37:37.778582Z"
    },
    "papermill": {
     "duration": 0.031232,
     "end_time": "2021-06-17T13:25:10.154085",
     "exception": false,
     "start_time": "2021-06-17T13:25:10.122853",
     "status": "completed"
    },
    "tags": []
   },
   "outputs": [],
   "source": [
    "os.mkdir('/kaggle/working/train')\n",
    "os.mkdir('/kaggle/working/test')\n",
    "\n",
    "os.mkdir('/kaggle/working/train/covid')\n",
    "os.mkdir('/kaggle/working/test/covid')\n",
    "\n",
    "os.mkdir('/kaggle/working/train/normal')\n",
    "os.mkdir('/kaggle/working/test/normal')\n",
    "\n",
    "os.mkdir('/kaggle/working/train/pneumonia')\n",
    "os.mkdir('/kaggle/working/test/pneumonia')"
   ]
  },
  {
   "cell_type": "code",
   "execution_count": 4,
   "id": "yellow-concentrate",
   "metadata": {
    "execution": {
     "iopub.execute_input": "2021-06-17T13:25:10.201905Z",
     "iopub.status.busy": "2021-06-17T13:25:10.201172Z",
     "iopub.status.idle": "2021-06-17T13:25:10.900450Z",
     "shell.execute_reply": "2021-06-17T13:25:10.899828Z",
     "shell.execute_reply.started": "2021-06-16T01:37:39.648693Z"
    },
    "papermill": {
     "duration": 0.724338,
     "end_time": "2021-06-17T13:25:10.900636",
     "exception": false,
     "start_time": "2021-06-17T13:25:10.176298",
     "status": "completed"
    },
    "tags": []
   },
   "outputs": [],
   "source": [
    "covid_train_len = int(np.floor(len(os.listdir(covid_path)) * 0.8))\n",
    "covid_len = len(os.listdir(covid_path))\n",
    "\n",
    "normal_train_len = int(np.floor(len(os.listdir(normal_path)) * 0.8))\n",
    "normal_len = len(os.listdir(normal_path))\n",
    "\n",
    "pneumonia_train_len = int(np.floor(len(os.listdir(pneumonia_path)) * 0.8))\n",
    "pneumonia_len = len(os.listdir(pneumonia_path))"
   ]
  },
  {
   "cell_type": "code",
   "execution_count": 5,
   "id": "mechanical-regression",
   "metadata": {
    "execution": {
     "iopub.execute_input": "2021-06-17T13:25:10.955282Z",
     "iopub.status.busy": "2021-06-17T13:25:10.954259Z",
     "iopub.status.idle": "2021-06-17T13:26:46.352236Z",
     "shell.execute_reply": "2021-06-17T13:26:46.352866Z",
     "shell.execute_reply.started": "2021-06-16T00:05:44.222288Z"
    },
    "papermill": {
     "duration": 95.430586,
     "end_time": "2021-06-17T13:26:46.353130",
     "exception": false,
     "start_time": "2021-06-17T13:25:10.922544",
     "status": "completed"
    },
    "tags": []
   },
   "outputs": [],
   "source": [
    "# loop over each class and split each up into train and test sets\n",
    "# itertools.islice(seq, [start,] stop[, step]) \n",
    "# e.g. itertools.islice([1, 2, 3, 4, 5], 2) --> 1 2\n",
    "# glob.glob(pathname) returns a list of path names that match pathname\n",
    "# glob.iglob(pathname) returns a generator\n",
    "\n",
    "for trainimg in itertools.islice(glob.iglob(os.path.join(covid_path, '*.png')), covid_train_len):\n",
    "    shutil.copy(trainimg, '/kaggle/working/train/covid')\n",
    "    \n",
    "for trainimg in itertools.islice(glob.iglob(os.path.join(normal_path, '*.png')), normal_train_len):\n",
    "    shutil.copy(trainimg, '/kaggle/working/train/normal')\n",
    "    \n",
    "for trainimg in itertools.islice(glob.iglob(os.path.join(pneumonia_path, '*.png')), pneumonia_train_len):\n",
    "    shutil.copy(trainimg, '/kaggle/working/train/pneumonia')\n",
    "\n",
    "\n",
    "for testimg in itertools.islice(glob.iglob(os.path.join(covid_path, '*.png')), covid_train_len, covid_len):\n",
    "    shutil.copy(testimg, '/kaggle/working/test/covid')\n",
    "\n",
    "for testimg in itertools.islice(glob.iglob(os.path.join(normal_path, '*.png')), normal_train_len, normal_len):\n",
    "    shutil.copy(testimg, '/kaggle/working/test/normal')\n",
    "\n",
    "for testimg in itertools.islice(glob.iglob(os.path.join(pneumonia_path, '*.png')), pneumonia_train_len, pneumonia_len):\n",
    "    shutil.copy(testimg, '/kaggle/working/test/pneumonia')"
   ]
  },
  {
   "cell_type": "markdown",
   "id": "reported-binary",
   "metadata": {
    "papermill": {
     "duration": 0.028376,
     "end_time": "2021-06-17T13:26:46.404279",
     "exception": false,
     "start_time": "2021-06-17T13:26:46.375903",
     "status": "completed"
    },
    "tags": []
   },
   "source": [
    "<a id=\"ref1\"></a>\n",
    "\n",
    "<h2 align=\"center\">Transforms</h2>"
   ]
  },
  {
   "cell_type": "code",
   "execution_count": 6,
   "id": "concerned-theorem",
   "metadata": {
    "execution": {
     "iopub.execute_input": "2021-06-17T13:26:46.453932Z",
     "iopub.status.busy": "2021-06-17T13:26:46.453148Z",
     "iopub.status.idle": "2021-06-17T13:26:46.459978Z",
     "shell.execute_reply": "2021-06-17T13:26:46.460490Z",
     "shell.execute_reply.started": "2021-06-16T01:37:58.594183Z"
    },
    "papermill": {
     "duration": 0.032968,
     "end_time": "2021-06-17T13:26:46.460705",
     "exception": false,
     "start_time": "2021-06-17T13:26:46.427737",
     "status": "completed"
    },
    "tags": []
   },
   "outputs": [],
   "source": [
    "normalizer = transforms.Normalize(mean = [0.5, 0.5, 0.5], std = [0.25, 0.25, 0.25])\n",
    "\n",
    "data_transforms = {\n",
    "    'training': transforms.Compose([\n",
    "        transforms.Resize((224, 224)),\n",
    "        transforms.RandomHorizontalFlip(),\n",
    "        transforms.ToTensor(),\n",
    "        normalizer]), \n",
    "    \n",
    "    'validation': transforms.Compose([\n",
    "        transforms.Resize((224, 224)),\n",
    "        transforms.ToTensor(),\n",
    "        normalizer])\n",
    "}"
   ]
  },
  {
   "cell_type": "code",
   "execution_count": 7,
   "id": "right-balloon",
   "metadata": {
    "execution": {
     "iopub.execute_input": "2021-06-17T13:26:46.511491Z",
     "iopub.status.busy": "2021-06-17T13:26:46.510799Z",
     "iopub.status.idle": "2021-06-17T13:26:46.612789Z",
     "shell.execute_reply": "2021-06-17T13:26:46.612151Z",
     "shell.execute_reply.started": "2021-06-16T01:37:59.465194Z"
    },
    "papermill": {
     "duration": 0.129787,
     "end_time": "2021-06-17T13:26:46.612946",
     "exception": false,
     "start_time": "2021-06-17T13:26:46.483159",
     "status": "completed"
    },
    "tags": []
   },
   "outputs": [],
   "source": [
    "# datasets.ImageFloder labels the images with the directory name\n",
    "\n",
    "data_images = {\n",
    "    'training': datasets.ImageFolder('/kaggle/working/train', data_transforms['training']), \n",
    "    'validation': datasets.ImageFolder('/kaggle/working/test', data_transforms['validation'])\n",
    "}"
   ]
  },
  {
   "cell_type": "code",
   "execution_count": 8,
   "id": "charged-alert",
   "metadata": {
    "execution": {
     "iopub.execute_input": "2021-06-17T13:26:46.663171Z",
     "iopub.status.busy": "2021-06-17T13:26:46.662383Z",
     "iopub.status.idle": "2021-06-17T13:26:46.665745Z",
     "shell.execute_reply": "2021-06-17T13:26:46.665199Z",
     "shell.execute_reply.started": "2021-06-16T01:38:03.265317Z"
    },
    "papermill": {
     "duration": 0.031107,
     "end_time": "2021-06-17T13:26:46.665893",
     "exception": false,
     "start_time": "2021-06-17T13:26:46.634786",
     "status": "completed"
    },
    "tags": []
   },
   "outputs": [],
   "source": [
    "dataloaders = {\n",
    "    'training': DataLoader(data_images['training'], batch_size = 32, shuffle = True), \n",
    "    'validation': DataLoader(data_images['validation'], batch_size = 1000)\n",
    "}"
   ]
  },
  {
   "cell_type": "markdown",
   "id": "unsigned-england",
   "metadata": {
    "papermill": {
     "duration": 0.021524,
     "end_time": "2021-06-17T13:26:46.709302",
     "exception": false,
     "start_time": "2021-06-17T13:26:46.687778",
     "status": "completed"
    },
    "tags": []
   },
   "source": [
    "<a id=\"ref2\"></a>\n",
    "\n",
    "<h2 align=\"center\">Load Model and Finetuning</h2>"
   ]
  },
  {
   "cell_type": "code",
   "execution_count": 9,
   "id": "third-asbestos",
   "metadata": {
    "execution": {
     "iopub.execute_input": "2021-06-17T13:26:46.760022Z",
     "iopub.status.busy": "2021-06-17T13:26:46.759185Z",
     "iopub.status.idle": "2021-06-17T13:26:52.996151Z",
     "shell.execute_reply": "2021-06-17T13:26:52.995425Z",
     "shell.execute_reply.started": "2021-06-16T01:38:04.798498Z"
    },
    "papermill": {
     "duration": 6.265205,
     "end_time": "2021-06-17T13:26:52.996312",
     "exception": false,
     "start_time": "2021-06-17T13:26:46.731107",
     "status": "completed"
    },
    "tags": []
   },
   "outputs": [
    {
     "name": "stderr",
     "output_type": "stream",
     "text": [
      "Downloading: \"https://download.pytorch.org/models/resnet50-19c8e357.pth\" to /root/.cache/torch/hub/checkpoints/resnet50-19c8e357.pth\n"
     ]
    },
    {
     "data": {
      "application/vnd.jupyter.widget-view+json": {
       "model_id": "578b2f6ebf984eb6afab3a1108bf34a3",
       "version_major": 2,
       "version_minor": 0
      },
      "text/plain": [
       "  0%|          | 0.00/97.8M [00:00<?, ?B/s]"
      ]
     },
     "metadata": {},
     "output_type": "display_data"
    }
   ],
   "source": [
    "device = torch.device('cuda:0' if torch.cuda.is_available() else 'cpu')\n",
    "model_ft = models.resnet50(pretrained = True)"
   ]
  },
  {
   "cell_type": "code",
   "execution_count": 10,
   "id": "catholic-protein",
   "metadata": {
    "execution": {
     "iopub.execute_input": "2021-06-17T13:26:53.051936Z",
     "iopub.status.busy": "2021-06-17T13:26:53.050919Z",
     "iopub.status.idle": "2021-06-17T13:26:53.061280Z",
     "shell.execute_reply": "2021-06-17T13:26:53.060626Z",
     "shell.execute_reply.started": "2021-06-16T01:38:15.564394Z"
    },
    "papermill": {
     "duration": 0.041841,
     "end_time": "2021-06-17T13:26:53.061478",
     "exception": false,
     "start_time": "2021-06-17T13:26:53.019637",
     "status": "completed"
    },
    "tags": []
   },
   "outputs": [],
   "source": [
    "for parameter in model_ft.parameters():\n",
    "    parameter.requires_grad = False\n",
    "\n",
    "model_ft.fc = nn.Sequential(\n",
    "    nn.Linear(2048, 64), \n",
    "    nn.ReLU(inplace = True), \n",
    "    nn.Linear(64, 3)\n",
    ").to(device)"
   ]
  },
  {
   "cell_type": "code",
   "execution_count": 11,
   "id": "controlled-roman",
   "metadata": {
    "execution": {
     "iopub.execute_input": "2021-06-17T13:26:53.114076Z",
     "iopub.status.busy": "2021-06-17T13:26:53.113049Z",
     "iopub.status.idle": "2021-06-17T13:26:53.116023Z",
     "shell.execute_reply": "2021-06-17T13:26:53.116481Z",
     "shell.execute_reply.started": "2021-06-16T01:38:40.63937Z"
    },
    "papermill": {
     "duration": 0.03215,
     "end_time": "2021-06-17T13:26:53.116694",
     "exception": false,
     "start_time": "2021-06-17T13:26:53.084544",
     "status": "completed"
    },
    "tags": []
   },
   "outputs": [],
   "source": [
    "criterion = nn.CrossEntropyLoss()\n",
    "optimizer = torch.optim.Adam(model_ft.fc.parameters(), lr = 0.0007)"
   ]
  },
  {
   "cell_type": "markdown",
   "id": "polar-sending",
   "metadata": {
    "papermill": {
     "duration": 0.022497,
     "end_time": "2021-06-17T13:26:53.162319",
     "exception": false,
     "start_time": "2021-06-17T13:26:53.139822",
     "status": "completed"
    },
    "tags": []
   },
   "source": [
    "<a id=\"ref3\"></a>\n",
    "\n",
    "<h2 align=\"center\">Training</h2>"
   ]
  },
  {
   "cell_type": "code",
   "execution_count": 12,
   "id": "cosmetic-result",
   "metadata": {
    "execution": {
     "iopub.execute_input": "2021-06-17T13:26:53.222027Z",
     "iopub.status.busy": "2021-06-17T13:26:53.220828Z",
     "iopub.status.idle": "2021-06-17T13:26:53.224289Z",
     "shell.execute_reply": "2021-06-17T13:26:53.223612Z",
     "shell.execute_reply.started": "2021-06-16T01:38:47.509316Z"
    },
    "papermill": {
     "duration": 0.039285,
     "end_time": "2021-06-17T13:26:53.224465",
     "exception": false,
     "start_time": "2021-06-17T13:26:53.185180",
     "status": "completed"
    },
    "tags": []
   },
   "outputs": [],
   "source": [
    "def train_model(model, dataloaders, criterion, optimizer, n_epochs):\n",
    "    \n",
    "    for epoch in range(n_epochs):\n",
    "        \n",
    "        print('Epoch: ', str(epoch + 1) + '/' + str(n_epochs))\n",
    "        \n",
    "        for phase in ['training', 'validation']:\n",
    "            if phase == 'training':\n",
    "                model.train()\n",
    "            else:\n",
    "                model.eval()\n",
    "                \n",
    "            loss_total = 0\n",
    "            corrects = 0  \n",
    "            for x, y in dataloaders[phase]:\n",
    "                \n",
    "                x = x.to(device)\n",
    "                y = y.to(device)\n",
    "                \n",
    "                z = model(x)\n",
    "                loss = criterion(z, y)\n",
    "                \n",
    "                if phase == 'training':\n",
    "                    optimizer.zero_grad()\n",
    "                    loss.backward()\n",
    "                    optimizer.step()\n",
    "                \n",
    "                yhat = torch.argmax(z, 1)\n",
    "                loss_total += loss.item() * x.size(0)\n",
    "                corrects += (yhat == y).sum().item()\n",
    "                \n",
    "            epoch_loss = loss_total / len(data_images[phase])\n",
    "            epoch_acc = corrects / len(data_images[phase])\n",
    "            \n",
    "            if phase =='training':\n",
    "                print(phase, 'loss:  ', format(epoch_loss, '.5f'), ' | ', phase, 'accuracy:  ', format(epoch_acc, '.5f'))\n",
    "            else:\n",
    "                print(phase, 'loss:', format(epoch_loss, '.5f'), ' | ', phase, 'accuracy:', format(epoch_acc, '.5f'))\n",
    "                print('-' * 60)\n",
    "                \n",
    "                if epoch_acc >= 0.945:\n",
    "                    print('Performance condition satisfied, knocking off...')\n",
    "                    return model\n",
    "                    \n",
    "    return model"
   ]
  },
  {
   "cell_type": "code",
   "execution_count": 13,
   "id": "polished-algebra",
   "metadata": {
    "execution": {
     "iopub.execute_input": "2021-06-17T13:26:53.279698Z",
     "iopub.status.busy": "2021-06-17T13:26:53.278989Z",
     "iopub.status.idle": "2021-06-17T19:07:57.675904Z",
     "shell.execute_reply": "2021-06-17T19:07:57.676809Z",
     "shell.execute_reply.started": "2021-06-16T01:38:55.47097Z"
    },
    "papermill": {
     "duration": 20464.431706,
     "end_time": "2021-06-17T19:07:57.678840",
     "exception": false,
     "start_time": "2021-06-17T13:26:53.247134",
     "status": "completed"
    },
    "tags": []
   },
   "outputs": [
    {
     "name": "stdout",
     "output_type": "stream",
     "text": [
      "Epoch:  1/10\n",
      "training loss:   0.41573  |  training accuracy:   0.83005\n",
      "validation loss: 0.29784  |  validation accuracy: 0.89017\n",
      "------------------------------------------------------------\n",
      "Epoch:  2/10\n",
      "training loss:   0.26281  |  training accuracy:   0.90100\n",
      "validation loss: 0.25699  |  validation accuracy: 0.90468\n",
      "------------------------------------------------------------\n",
      "Epoch:  3/10\n",
      "training loss:   0.24423  |  training accuracy:   0.90405\n",
      "validation loss: 0.19743  |  validation accuracy: 0.92480\n",
      "------------------------------------------------------------\n",
      "Epoch:  4/10\n",
      "training loss:   0.22456  |  training accuracy:   0.91766\n",
      "validation loss: 0.20308  |  validation accuracy: 0.92018\n",
      "------------------------------------------------------------\n",
      "Epoch:  5/10\n",
      "training loss:   0.22133  |  training accuracy:   0.91387\n",
      "validation loss: 0.23387  |  validation accuracy: 0.90732\n",
      "------------------------------------------------------------\n",
      "Epoch:  6/10\n",
      "training loss:   0.22928  |  training accuracy:   0.91007\n",
      "validation loss: 0.19114  |  validation accuracy: 0.92942\n",
      "------------------------------------------------------------\n",
      "Epoch:  7/10\n",
      "training loss:   0.20993  |  training accuracy:   0.91923\n",
      "validation loss: 0.16890  |  validation accuracy: 0.93536\n",
      "------------------------------------------------------------\n",
      "Epoch:  8/10\n",
      "training loss:   0.21134  |  training accuracy:   0.91535\n",
      "validation loss: 0.16893  |  validation accuracy: 0.93799\n",
      "------------------------------------------------------------\n",
      "Epoch:  9/10\n",
      "training loss:   0.19839  |  training accuracy:   0.92278\n",
      "validation loss: 0.17255  |  validation accuracy: 0.93602\n",
      "------------------------------------------------------------\n",
      "Epoch:  10/10\n",
      "training loss:   0.18715  |  training accuracy:   0.92847\n",
      "validation loss: 0.20516  |  validation accuracy: 0.91887\n",
      "------------------------------------------------------------\n",
      "CPU times: user 9h 52min 48s, sys: 1h 10min 30s, total: 11h 3min 18s\n",
      "Wall time: 5h 41min 4s\n"
     ]
    }
   ],
   "source": [
    "%%time\n",
    "model = train_model(model_ft, dataloaders, criterion, optimizer, 10)"
   ]
  },
  {
   "cell_type": "markdown",
   "id": "growing-purple",
   "metadata": {
    "papermill": {
     "duration": 0.028664,
     "end_time": "2021-06-17T19:07:57.736844",
     "exception": false,
     "start_time": "2021-06-17T19:07:57.708180",
     "status": "completed"
    },
    "tags": []
   },
   "source": [
    "<a id=\"ref4\"></a>\n",
    "\n",
    "<h2 align=\"center\">Save the Model</h2>"
   ]
  },
  {
   "cell_type": "code",
   "execution_count": 14,
   "id": "bright-broadcasting",
   "metadata": {
    "execution": {
     "iopub.execute_input": "2021-06-17T19:07:57.816996Z",
     "iopub.status.busy": "2021-06-17T19:07:57.816125Z",
     "iopub.status.idle": "2021-06-17T19:07:58.090485Z",
     "shell.execute_reply": "2021-06-17T19:07:58.089816Z",
     "shell.execute_reply.started": "2021-06-14T15:45:28.216935Z"
    },
    "papermill": {
     "duration": 0.325088,
     "end_time": "2021-06-17T19:07:58.090639",
     "exception": false,
     "start_time": "2021-06-17T19:07:57.765551",
     "status": "completed"
    },
    "tags": []
   },
   "outputs": [],
   "source": [
    "import pickle\n",
    "filename = 'covid_model.pickle'\n",
    "pickle.dump(model, open(filename, 'wb'))\n",
    "loaded_model = pickle.load(open(filename, 'rb'))"
   ]
  },
  {
   "cell_type": "markdown",
   "id": "ultimate-idaho",
   "metadata": {
    "papermill": {
     "duration": 0.028358,
     "end_time": "2021-06-17T19:07:58.148813",
     "exception": false,
     "start_time": "2021-06-17T19:07:58.120455",
     "status": "completed"
    },
    "tags": []
   },
   "source": [
    "<a id=\"ref5\"></a>\n",
    "\n",
    "<h2 align=\"center\">Confusion Matrix</h2>"
   ]
  },
  {
   "cell_type": "code",
   "execution_count": 15,
   "id": "dense-trade",
   "metadata": {
    "execution": {
     "iopub.execute_input": "2021-06-17T19:07:58.214774Z",
     "iopub.status.busy": "2021-06-17T19:07:58.214092Z",
     "iopub.status.idle": "2021-06-17T19:28:27.241787Z",
     "shell.execute_reply": "2021-06-17T19:28:27.242308Z",
     "shell.execute_reply.started": "2021-06-14T15:45:28.338662Z"
    },
    "papermill": {
     "duration": 1229.064881,
     "end_time": "2021-06-17T19:28:27.242507",
     "exception": false,
     "start_time": "2021-06-17T19:07:58.177626",
     "status": "completed"
    },
    "tags": []
   },
   "outputs": [
    {
     "data": {
      "text/plain": [
       "tensor([[0., 0.],\n",
       "        [1., 1.],\n",
       "        [0., 0.],\n",
       "        ...,\n",
       "        [0., 0.],\n",
       "        [1., 1.],\n",
       "        [1., 1.]])"
      ]
     },
     "execution_count": 15,
     "metadata": {},
     "output_type": "execute_result"
    }
   ],
   "source": [
    "labels = torch.tensor([])\n",
    "preds = torch.tensor([])\n",
    "\n",
    "with torch.no_grad():\n",
    "    for x, y in dataloaders['training']:\n",
    "        z = loaded_model(x)\n",
    "        yhat = torch.argmax(z, 1)\n",
    "        labels = torch.cat((y, labels), 0)\n",
    "        preds = torch.cat((yhat, preds), 0)\n",
    "        \n",
    "stacked = torch.stack((labels, preds), dim = 1)\n",
    "stacked"
   ]
  },
  {
   "cell_type": "code",
   "execution_count": 16,
   "id": "included-patrol",
   "metadata": {
    "execution": {
     "iopub.execute_input": "2021-06-17T19:28:27.309723Z",
     "iopub.status.busy": "2021-06-17T19:28:27.308679Z",
     "iopub.status.idle": "2021-06-17T19:28:27.312856Z",
     "shell.execute_reply": "2021-06-17T19:28:27.313366Z",
     "shell.execute_reply.started": "2021-06-14T15:54:06.650532Z"
    },
    "papermill": {
     "duration": 0.040928,
     "end_time": "2021-06-17T19:28:27.313547",
     "exception": false,
     "start_time": "2021-06-17T19:28:27.272619",
     "status": "completed"
    },
    "tags": []
   },
   "outputs": [
    {
     "data": {
      "text/plain": [
       "tensor([[0, 0, 0],\n",
       "        [0, 0, 0],\n",
       "        [0, 0, 0]], dtype=torch.int32)"
      ]
     },
     "execution_count": 16,
     "metadata": {},
     "output_type": "execute_result"
    }
   ],
   "source": [
    "cmt = torch.zeros(3, 3, dtype = torch.int32)\n",
    "cmt"
   ]
  },
  {
   "cell_type": "code",
   "execution_count": 17,
   "id": "legal-ideal",
   "metadata": {
    "execution": {
     "iopub.execute_input": "2021-06-17T19:28:27.375758Z",
     "iopub.status.busy": "2021-06-17T19:28:27.375103Z",
     "iopub.status.idle": "2021-06-17T19:28:28.219311Z",
     "shell.execute_reply": "2021-06-17T19:28:28.218692Z",
     "shell.execute_reply.started": "2021-06-14T15:54:10.465601Z"
    },
    "papermill": {
     "duration": 0.87658,
     "end_time": "2021-06-17T19:28:28.219537",
     "exception": false,
     "start_time": "2021-06-17T19:28:27.342957",
     "status": "completed"
    },
    "tags": []
   },
   "outputs": [
    {
     "data": {
      "text/plain": [
       "tensor([[2765,  120,    7],\n",
       "        [ 601, 7486,   66],\n",
       "        [  14,   42, 1020]], dtype=torch.int32)"
      ]
     },
     "execution_count": 17,
     "metadata": {},
     "output_type": "execute_result"
    }
   ],
   "source": [
    "for p in stacked:\n",
    "    j, k = p.tolist()\n",
    "    j, k = int(j), int(k)\n",
    "    cmt[j, k] += 1\n",
    "cmt"
   ]
  },
  {
   "cell_type": "code",
   "execution_count": 18,
   "id": "electronic-volume",
   "metadata": {
    "execution": {
     "iopub.execute_input": "2021-06-17T19:28:28.291228Z",
     "iopub.status.busy": "2021-06-17T19:28:28.290143Z",
     "iopub.status.idle": "2021-06-17T19:28:28.293427Z",
     "shell.execute_reply": "2021-06-17T19:28:28.292904Z",
     "shell.execute_reply.started": "2021-06-14T15:54:11.769844Z"
    },
    "papermill": {
     "duration": 0.043135,
     "end_time": "2021-06-17T19:28:28.293587",
     "exception": false,
     "start_time": "2021-06-17T19:28:28.250452",
     "status": "completed"
    },
    "tags": []
   },
   "outputs": [],
   "source": [
    "def plot_confusion_matrix(cm, classes, title = 'Confusion Matrix', cmap = plt.cm.Blues):\n",
    "\n",
    "    print(cm)\n",
    "    plt.imshow(cm, cmap = cmap)\n",
    "    plt.title(title)\n",
    "    plt.colorbar()\n",
    "    tick_marks = np.arange(len(classes))\n",
    "    plt.xticks(tick_marks, classes, rotation = 30)\n",
    "    plt.yticks(tick_marks, classes)\n",
    "\n",
    "    thresh = cm.max() / 2.\n",
    "    for i, j in itertools.product(range(cm.shape[0]), range(cm.shape[1])):\n",
    "        plt.text(j, i, format(cm[i, j], 'd'), horizontalalignment = \"center\", color = \"white\" if cm[i, j] > thresh else \"black\")\n",
    "    \n",
    "    plt.subplots_adjust(left = 0.15)\n",
    "    plt.ylabel('True label')\n",
    "    plt.xlabel('Predicted label')\n",
    "    plt.savefig('covid_confusion_matrix.png')"
   ]
  },
  {
   "cell_type": "code",
   "execution_count": 19,
   "id": "palestinian-jacob",
   "metadata": {
    "execution": {
     "iopub.execute_input": "2021-06-17T19:28:28.381605Z",
     "iopub.status.busy": "2021-06-17T19:28:28.380898Z",
     "iopub.status.idle": "2021-06-17T19:28:28.875095Z",
     "shell.execute_reply": "2021-06-17T19:28:28.874453Z",
     "shell.execute_reply.started": "2021-06-14T15:54:13.201725Z"
    },
    "papermill": {
     "duration": 0.550574,
     "end_time": "2021-06-17T19:28:28.875237",
     "exception": false,
     "start_time": "2021-06-17T19:28:28.324663",
     "status": "completed"
    },
    "tags": []
   },
   "outputs": [
    {
     "name": "stdout",
     "output_type": "stream",
     "text": [
      "tensor([[2765,  120,    7],\n",
      "        [ 601, 7486,   66],\n",
      "        [  14,   42, 1020]], dtype=torch.int32)\n"
     ]
    },
    {
     "data": {
      "image/png": "[encoded data removed]",
      "text/plain": [
       "<Figure size 720x720 with 2 Axes>"
      ]
     },
     "metadata": {
      "needs_background": "light"
     },
     "output_type": "display_data"
    }
   ],
   "source": [
    "classes = ['Covid', 'Normal', 'Viral Pneumonia']\n",
    "plt.figure(figsize = (10, 10))\n",
    "plot_confusion_matrix(cmt, classes)"
   ]
  },
  {
   "cell_type": "code",
   "execution_count": 20,
   "id": "sacred-noise",
   "metadata": {
    "execution": {
     "iopub.execute_input": "2021-06-17T19:28:28.943972Z",
     "iopub.status.busy": "2021-06-17T19:28:28.943259Z",
     "iopub.status.idle": "2021-06-17T19:28:28.949356Z",
     "shell.execute_reply": "2021-06-17T19:28:28.948777Z",
     "shell.execute_reply.started": "2021-06-14T15:54:15.281705Z"
    },
    "papermill": {
     "duration": 0.042277,
     "end_time": "2021-06-17T19:28:28.949507",
     "exception": false,
     "start_time": "2021-06-17T19:28:28.907230",
     "status": "completed"
    },
    "tags": []
   },
   "outputs": [
    {
     "data": {
      "text/plain": [
       "0.956085741519928"
      ]
     },
     "execution_count": 20,
     "metadata": {},
     "output_type": "execute_result"
    }
   ],
   "source": [
    "covid_sensitivity = (cmt[0][0] / cmt[0].sum()).item()\n",
    "covid_sensitivity"
   ]
  },
  {
   "cell_type": "code",
   "execution_count": null,
   "id": "affected-animation",
   "metadata": {
    "papermill": {
     "duration": 0.031498,
     "end_time": "2021-06-17T19:28:29.012578",
     "exception": false,
     "start_time": "2021-06-17T19:28:28.981080",
     "status": "completed"
    },
    "tags": []
   },
   "outputs": [],
   "source": []
  }
 ],
 "metadata": {
  "kernelspec": {
   "display_name": "Python 3",
   "language": "python",
   "name": "python3"
  },
  "language_info": {
   "codemirror_mode": {
    "name": "ipython",
    "version": 3
   },
   "file_extension": ".py",
   "mimetype": "text/x-python",
   "name": "python",
   "nbconvert_exporter": "python",
   "pygments_lexer": "ipython3",
   "version": "3.8.8"
  },
  "papermill": {
   "default_parameters": {},
   "duration": 21810.976774,
   "end_time": "2021-06-17T19:28:30.852622",
   "environment_variables": {},
   "exception": null,
   "input_path": "__notebook__.ipynb",
   "output_path": "__notebook__.ipynb",
   "parameters": {},
   "start_time": "2021-06-17T13:24:59.875848",
   "version": "2.3.3"
  },
  "widgets": {
   "application/vnd.jupyter.widget-state+json": {
    "state": {
     "3333f485a3b14548b7e8239b5115e448": {
      "model_module": "@jupyter-widgets/controls",
      "model_module_version": "1.5.0",
      "model_name": "HTMLModel",
      "state": {
       "_dom_classes": [],
       "_model_module": "@jupyter-widgets/controls",
       "_model_module_version": "1.5.0",
       "_model_name": "HTMLModel",
       "_view_count": null,
       "_view_module": "@jupyter-widgets/controls",
       "_view_module_version": "1.5.0",
       "_view_name": "HTMLView",
       "description": "",
       "description_tooltip": null,
       "layout": "IPY_MODEL_703fe171effc41b2b81a8b015a8a0bd9",
       "placeholder": "​",
       "style": "IPY_MODEL_aff0191e45314ba8944b634bec805551",
       "value": "100%"
      }
     },
     "578b2f6ebf984eb6afab3a1108bf34a3": {
      "model_module": "@jupyter-widgets/controls",
      "model_module_version": "1.5.0",
      "model_name": "HBoxModel",
      "state": {
       "_dom_classes": [],
       "_model_module": "@jupyter-widgets/controls",
       "_model_module_version": "1.5.0",
       "_model_name": "HBoxModel",
       "_view_count": null,
       "_view_module": "@jupyter-widgets/controls",
       "_view_module_version": "1.5.0",
       "_view_name": "HBoxView",
       "box_style": "",
       "children": [
        "IPY_MODEL_3333f485a3b14548b7e8239b5115e448",
        "IPY_MODEL_c338660c768e46e6acfdeea0908e8bb4",
        "IPY_MODEL_67a0da2786244561b377d86a12ca7203"
       ],
       "layout": "IPY_MODEL_cc5dbdef8ba84ca780d956eaedbca6ce"
      }
     },
     "5b9a989e783f4a90a804d2577237dccd": {
      "model_module": "@jupyter-widgets/base",
      "model_module_version": "1.2.0",
      "model_name": "LayoutModel",
      "state": {
       "_model_module": "@jupyter-widgets/base",
       "_model_module_version": "1.2.0",
       "_model_name": "LayoutModel",
       "_view_count": null,
       "_view_module": "@jupyter-widgets/base",
       "_view_module_version": "1.2.0",
       "_view_name": "LayoutView",
       "align_content": null,
       "align_items": null,
       "align_self": null,
       "border": null,
       "bottom": null,
       "display": null,
       "flex": null,
       "flex_flow": null,
       "grid_area": null,
       "grid_auto_columns": null,
       "grid_auto_flow": null,
       "grid_auto_rows": null,
       "grid_column": null,
       "grid_gap": null,
       "grid_row": null,
       "grid_template_areas": null,
       "grid_template_columns": null,
       "grid_template_rows": null,
       "height": null,
       "justify_content": null,
       "justify_items": null,
       "left": null,
       "margin": null,
       "max_height": null,
       "max_width": null,
       "min_height": null,
       "min_width": null,
       "object_fit": null,
       "object_position": null,
       "order": null,
       "overflow": null,
       "overflow_x": null,
       "overflow_y": null,
       "padding": null,
       "right": null,
       "top": null,
       "visibility": null,
       "width": null
      }
     },
     "6497b20446f0429b8981cd3651ca3acb": {
      "model_module": "@jupyter-widgets/base",
      "model_module_version": "1.2.0",
      "model_name": "LayoutModel",
      "state": {
       "_model_module": "@jupyter-widgets/base",
       "_model_module_version": "1.2.0",
       "_model_name": "LayoutModel",
       "_view_count": null,
       "_view_module": "@jupyter-widgets/base",
       "_view_module_version": "1.2.0",
       "_view_name": "LayoutView",
       "align_content": null,
       "align_items": null,
       "align_self": null,
       "border": null,
       "bottom": null,
       "display": null,
       "flex": null,
       "flex_flow": null,
       "grid_area": null,
       "grid_auto_columns": null,
       "grid_auto_flow": null,
       "grid_auto_rows": null,
       "grid_column": null,
       "grid_gap": null,
       "grid_row": null,
       "grid_template_areas": null,
       "grid_template_columns": null,
       "grid_template_rows": null,
       "height": null,
       "justify_content": null,
       "justify_items": null,
       "left": null,
       "margin": null,
       "max_height": null,
       "max_width": null,
       "min_height": null,
       "min_width": null,
       "object_fit": null,
       "object_position": null,
       "order": null,
       "overflow": null,
       "overflow_x": null,
       "overflow_y": null,
       "padding": null,
       "right": null,
       "top": null,
       "visibility": null,
       "width": null
      }
     },
     "67a0da2786244561b377d86a12ca7203": {
      "model_module": "@jupyter-widgets/controls",
      "model_module_version": "1.5.0",
      "model_name": "HTMLModel",
      "state": {
       "_dom_classes": [],
       "_model_module": "@jupyter-widgets/controls",
       "_model_module_version": "1.5.0",
       "_model_name": "HTMLModel",
       "_view_count": null,
       "_view_module": "@jupyter-widgets/controls",
       "_view_module_version": "1.5.0",
       "_view_name": "HTMLView",
       "description": "",
       "description_tooltip": null,
       "layout": "IPY_MODEL_6497b20446f0429b8981cd3651ca3acb",
       "placeholder": "​",
       "style": "IPY_MODEL_b4b467002ef340c3ba2fa7144e2b349c",
       "value": " 97.8M/97.8M [00:04&lt;00:00, 25.6MB/s]"
      }
     },
     "703fe171effc41b2b81a8b015a8a0bd9": {
      "model_module": "@jupyter-widgets/base",
      "model_module_version": "1.2.0",
      "model_name": "LayoutModel",
      "state": {
       "_model_module": "@jupyter-widgets/base",
       "_model_module_version": "1.2.0",
       "_model_name": "LayoutModel",
       "_view_count": null,
       "_view_module": "@jupyter-widgets/base",
       "_view_module_version": "1.2.0",
       "_view_name": "LayoutView",
       "align_content": null,
       "align_items": null,
       "align_self": null,
       "border": null,
       "bottom": null,
       "display": null,
       "flex": null,
       "flex_flow": null,
       "grid_area": null,
       "grid_auto_columns": null,
       "grid_auto_flow": null,
       "grid_auto_rows": null,
       "grid_column": null,
       "grid_gap": null,
       "grid_row": null,
       "grid_template_areas": null,
       "grid_template_columns": null,
       "grid_template_rows": null,
       "height": null,
       "justify_content": null,
       "justify_items": null,
       "left": null,
       "margin": null,
       "max_height": null,
       "max_width": null,
       "min_height": null,
       "min_width": null,
       "object_fit": null,
       "object_position": null,
       "order": null,
       "overflow": null,
       "overflow_x": null,
       "overflow_y": null,
       "padding": null,
       "right": null,
       "top": null,
       "visibility": null,
       "width": null
      }
     },
     "aff0191e45314ba8944b634bec805551": {
      "model_module": "@jupyter-widgets/controls",
      "model_module_version": "1.5.0",
      "model_name": "DescriptionStyleModel",
      "state": {
       "_model_module": "@jupyter-widgets/controls",
       "_model_module_version": "1.5.0",
       "_model_name": "DescriptionStyleModel",
       "_view_count": null,
       "_view_module": "@jupyter-widgets/base",
       "_view_module_version": "1.2.0",
       "_view_name": "StyleView",
       "description_width": ""
      }
     },
     "b4b467002ef340c3ba2fa7144e2b349c": {
      "model_module": "@jupyter-widgets/controls",
      "model_module_version": "1.5.0",
      "model_name": "DescriptionStyleModel",
      "state": {
       "_model_module": "@jupyter-widgets/controls",
       "_model_module_version": "1.5.0",
       "_model_name": "DescriptionStyleModel",
       "_view_count": null,
       "_view_module": "@jupyter-widgets/base",
       "_view_module_version": "1.2.0",
       "_view_name": "StyleView",
       "description_width": ""
      }
     },
     "c338660c768e46e6acfdeea0908e8bb4": {
      "model_module": "@jupyter-widgets/controls",
      "model_module_version": "1.5.0",
      "model_name": "FloatProgressModel",
      "state": {
       "_dom_classes": [],
       "_model_module": "@jupyter-widgets/controls",
       "_model_module_version": "1.5.0",
       "_model_name": "FloatProgressModel",
       "_view_count": null,
       "_view_module": "@jupyter-widgets/controls",
       "_view_module_version": "1.5.0",
       "_view_name": "ProgressView",
       "bar_style": "success",
       "description": "",
       "description_tooltip": null,
       "layout": "IPY_MODEL_5b9a989e783f4a90a804d2577237dccd",
       "max": 102502400,
       "min": 0,
       "orientation": "horizontal",
       "style": "IPY_MODEL_d7ce5b5503b74594ba0933e2e5751a15",
       "value": 102502400
      }
     },
     "cc5dbdef8ba84ca780d956eaedbca6ce": {
      "model_module": "@jupyter-widgets/base",
      "model_module_version": "1.2.0",
      "model_name": "LayoutModel",
      "state": {
       "_model_module": "@jupyter-widgets/base",
       "_model_module_version": "1.2.0",
       "_model_name": "LayoutModel",
       "_view_count": null,
       "_view_module": "@jupyter-widgets/base",
       "_view_module_version": "1.2.0",
       "_view_name": "LayoutView",
       "align_content": null,
       "align_items": null,
       "align_self": null,
       "border": null,
       "bottom": null,
       "display": null,
       "flex": null,
       "flex_flow": null,
       "grid_area": null,
       "grid_auto_columns": null,
       "grid_auto_flow": null,
       "grid_auto_rows": null,
       "grid_column": null,
       "grid_gap": null,
       "grid_row": null,
       "grid_template_areas": null,
       "grid_template_columns": null,
       "grid_template_rows": null,
       "height": null,
       "justify_content": null,
       "justify_items": null,
       "left": null,
       "margin": null,
       "max_height": null,
       "max_width": null,
       "min_height": null,
       "min_width": null,
       "object_fit": null,
       "object_position": null,
       "order": null,
       "overflow": null,
       "overflow_x": null,
       "overflow_y": null,
       "padding": null,
       "right": null,
       "top": null,
       "visibility": null,
       "width": null
      }
     },
     "d7ce5b5503b74594ba0933e2e5751a15": {
      "model_module": "@jupyter-widgets/controls",
      "model_module_version": "1.5.0",
      "model_name": "ProgressStyleModel",
      "state": {
       "_model_module": "@jupyter-widgets/controls",
       "_model_module_version": "1.5.0",
       "_model_name": "ProgressStyleModel",
       "_view_count": null,
       "_view_module": "@jupyter-widgets/base",
       "_view_module_version": "1.2.0",
       "_view_name": "StyleView",
       "bar_color": null,
       "description_width": ""
      }
     }
    },
    "version_major": 2,
    "version_minor": 0
   }
  }
 },
 "nbformat": 4,
 "nbformat_minor": 5
}
